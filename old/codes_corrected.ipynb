{
 "cells": [
  {
   "cell_type": "code",
   "execution_count": 1,
   "id": "be0cb437f402976d",
   "metadata": {
    "ExecuteTime": {
     "end_time": "2025-02-25T09:38:12.250844Z",
     "start_time": "2025-02-25T09:38:12.249316Z"
    }
   },
   "outputs": [],
   "source": [
    "import pandas as pd\n",
    "import matplotlib.pyplot as plt\n",
    "import seaborn as sns"
   ]
  },
  {
   "cell_type": "code",
   "execution_count": 2,
   "id": "initial_id",
   "metadata": {
    "ExecuteTime": {
     "end_time": "2025-02-25T09:38:16.401648Z",
     "start_time": "2025-02-25T09:38:12.253056Z"
    },
    "collapsed": true
   },
   "outputs": [
    {
     "name": "stdout",
     "output_type": "stream",
     "text": [
      "Data loaded successfully.\n"
     ]
    }
   ],
   "source": [
    "# Create a library to change data types\n",
    "dtype_mapping = {\n",
    "    \"DiagnosisGroupCode\": str,\n",
    "    \"DOD\": str,\n",
    "    \"ClmAdmitDiagnosisCode\": str,\n",
    "    **{f\"ClmDiagnosisCode_{i}\": str for i in range(1, 11)}\n",
    "}\n",
    "\n",
    "# Identify date columns\n",
    "date_columns = [\"ClaimStartDt\", \"ClaimEndDt\", \"DOB\", \"DOD\", \"AdmissionDt\", \"DischargeDt\"]"
   ]
  },
  {
   "cell_type": "code",
   "execution_count": null,
   "id": "097e36ac",
   "metadata": {},
   "outputs": [],
   "source": [
    "# Load the training data and the unlabeled data\n",
    "train_data = pd.read_csv(\"data/train_data.csv\", dtype=dtype_mapping, parse_dates=date_columns)\n",
    "unlabeled_data = pd.read_csv(\"data/unlabeled_data.csv\", dtype=dtype_mapping, parse_dates=date_columns)\n",
    "\n",
    "# Format dates\n",
    "date_format = \"%Y-%m-%d\"\n",
    "\n",
    "# Convert date columns\n",
    "for col in [\"AdmissionDt\", \"DischargeDt\", \"DOD\"]:\n",
    "    if col in train_data.columns:\n",
    "        train_data[col] = pd.to_datetime(train_data[col], format=date_format, errors=\"coerce\")\n",
    "    if col in unlabeled_data.columns:\n",
    "        unlabeled_data[col] = pd.to_datetime(unlabeled_data[col], format=date_format, errors=\"coerce\")\n",
    "print(\"Data loaded successfully.\")"
   ]
  },
  {
   "cell_type": "code",
   "execution_count": 1,
   "id": "7204b670f5116417",
   "metadata": {
    "ExecuteTime": {
     "end_time": "2025-02-25T09:38:16.506218Z",
     "start_time": "2025-02-25T09:38:16.504482Z"
    }
   },
   "outputs": [],
   "source": [
    "diagnosis_columns = [f\"ClmDiagnosisCode_{i}\" for i in range(1, 11)]\n",
    "procedure_columns = [f\"ClmProcedureCode_{i}\" for i in range(1, 7)]"
   ]
  },
  {
   "cell_type": "code",
   "execution_count": 4,
   "id": "68675290defa72ba",
   "metadata": {
    "ExecuteTime": {
     "end_time": "2025-02-25T09:38:16.515433Z",
     "start_time": "2025-02-25T09:38:16.513617Z"
    }
   },
   "outputs": [],
   "source": [
    "# Create a function to fix the format of codes\n",
    "def fix_icd_format(code):\n",
    "    \"\"\"Fix ICD-9/10 codes that are incorrectly formatted due to float conversion.\"\"\"\n",
    "    if pd.isna(code) or code in [\"\", \"NAN\", \"NaN\", \"<NA>\"]:\n",
    "        return pd.NA\n",
    "\n",
    "    code = str(code).strip().upper()\n",
    "\n",
    "    if code.endswith(\".0\"):\n",
    "        code = code[:-2]\n",
    "\n",
    "    return code"
   ]
  },
  {
   "cell_type": "code",
   "execution_count": 5,
   "id": "7f7794c5c709389c",
   "metadata": {
    "ExecuteTime": {
     "end_time": "2025-02-25T09:38:21.966504Z",
     "start_time": "2025-02-25T09:38:16.522328Z"
    }
   },
   "outputs": [],
   "source": [
    "# Apply the function to fix the format of codes\n",
    "for col in diagnosis_columns + procedure_columns:\n",
    "    train_data[col] = train_data[col].replace(\n",
    "        {\"nan\": pd.NA, \"0nan\": pd.NA, \"NaN\": pd.NA, \"NAN\": pd.NA, \"<NA>\": pd.NA, \"\": pd.NA},\n",
    "        regex=True\n",
    "    )\n",
    "\n",
    "    train_data[col] = train_data[col].astype(\"string\").apply(fix_icd_format)"
   ]
  },
  {
   "cell_type": "code",
   "execution_count": 6,
   "id": "33229e8879cf7847",
   "metadata": {
    "ExecuteTime": {
     "end_time": "2025-02-25T09:38:22.189778Z",
     "start_time": "2025-02-25T09:38:21.974376Z"
    }
   },
   "outputs": [
    {
     "name": "stdout",
     "output_type": "stream",
     "text": [
      "<class 'pandas.core.frame.DataFrame'>\n",
      "RangeIndex: 558211 entries, 0 to 558210\n",
      "Data columns (total 59 columns):\n",
      " #   Column                           Non-Null Count   Dtype         \n",
      "---  ------                           --------------   -----         \n",
      " 0   BeneID                           558211 non-null  object        \n",
      " 1   ClaimID                          558211 non-null  object        \n",
      " 2   ClaimStartDt                     558211 non-null  datetime64[ns]\n",
      " 3   ClaimEndDt                       558211 non-null  datetime64[ns]\n",
      " 4   Provider                         558211 non-null  object        \n",
      " 5   InscClaimAmtReimbursed           558211 non-null  int64         \n",
      " 6   AttendingPhysician               556703 non-null  object        \n",
      " 7   OperatingPhysician               114447 non-null  object        \n",
      " 8   OtherPhysician                   199736 non-null  object        \n",
      " 9   AdmissionDt                      40474 non-null   datetime64[ns]\n",
      " 10  ClmAdmitDiagnosisCode            145899 non-null  object        \n",
      " 11  DeductibleAmtPaid                557312 non-null  float64       \n",
      " 12  DischargeDt                      40474 non-null   datetime64[ns]\n",
      " 13  DiagnosisGroupCode               40474 non-null   object        \n",
      " 14  ClmDiagnosisCode_1               547758 non-null  object        \n",
      " 15  ClmDiagnosisCode_2               362605 non-null  object        \n",
      " 16  ClmDiagnosisCode_3               243055 non-null  object        \n",
      " 17  ClmDiagnosisCode_4               164536 non-null  object        \n",
      " 18  ClmDiagnosisCode_5               111924 non-null  object        \n",
      " 19  ClmDiagnosisCode_6               84392 non-null   object        \n",
      " 20  ClmDiagnosisCode_7               66177 non-null   object        \n",
      " 21  ClmDiagnosisCode_8               53444 non-null   object        \n",
      " 22  ClmDiagnosisCode_9               41815 non-null   object        \n",
      " 23  ClmDiagnosisCode_10              5010 non-null    object        \n",
      " 24  ClmProcedureCode_1               23310 non-null   object        \n",
      " 25  ClmProcedureCode_2               5490 non-null    object        \n",
      " 26  ClmProcedureCode_3               969 non-null     object        \n",
      " 27  ClmProcedureCode_4               118 non-null     object        \n",
      " 28  ClmProcedureCode_5               9 non-null       object        \n",
      " 29  ClmProcedureCode_6               0 non-null       object        \n",
      " 30  TotalClaims                      558211 non-null  int64         \n",
      " 31  DOB                              558211 non-null  datetime64[ns]\n",
      " 32  DOD                              0 non-null       datetime64[ns]\n",
      " 33  Gender                           558211 non-null  int64         \n",
      " 34  Race                             558211 non-null  int64         \n",
      " 35  RenalDiseaseIndicator            558211 non-null  object        \n",
      " 36  State                            558211 non-null  int64         \n",
      " 37  County                           558211 non-null  int64         \n",
      " 38  NoOfMonths_PartACov              558211 non-null  int64         \n",
      " 39  NoOfMonths_PartBCov              558211 non-null  int64         \n",
      " 40  ChronicCond_Alzheimer            558211 non-null  int64         \n",
      " 41  ChronicCond_Heartfailure         558211 non-null  int64         \n",
      " 42  ChronicCond_KidneyDisease        558211 non-null  int64         \n",
      " 43  ChronicCond_Cancer               558211 non-null  int64         \n",
      " 44  ChronicCond_ObstrPulmonary       558211 non-null  int64         \n",
      " 45  ChronicCond_Depression           558211 non-null  int64         \n",
      " 46  ChronicCond_Diabetes             558211 non-null  int64         \n",
      " 47  ChronicCond_IschemicHeart        558211 non-null  int64         \n",
      " 48  ChronicCond_Osteoporasis         558211 non-null  int64         \n",
      " 49  ChronicCond_rheumatoidarthritis  558211 non-null  int64         \n",
      " 50  ChronicCond_stroke               558211 non-null  int64         \n",
      " 51  IPAnnualReimbursementAmt         558211 non-null  int64         \n",
      " 52  IPAnnualDeductibleAmt            558211 non-null  int64         \n",
      " 53  OPAnnualReimbursementAmt         558211 non-null  int64         \n",
      " 54  OPAnnualDeductibleAmt            558211 non-null  int64         \n",
      " 55  Age                              558211 non-null  int64         \n",
      " 56  ChronicCount                     558211 non-null  int64         \n",
      " 57  PotentialFraud                   558211 non-null  object        \n",
      " 58  ClaimType                        558211 non-null  object        \n",
      "dtypes: datetime64[ns](6), float64(1), int64(25), object(27)\n",
      "memory usage: 251.3+ MB\n"
     ]
    }
   ],
   "source": [
    "# Get metadata\n",
    "train_data.info()"
   ]
  },
  {
   "cell_type": "code",
   "execution_count": 7,
   "id": "2041c8503c1210a7",
   "metadata": {
    "ExecuteTime": {
     "end_time": "2025-02-25T09:38:22.205683Z",
     "start_time": "2025-02-25T09:38:22.197874Z"
    }
   },
   "outputs": [
    {
     "data": {
      "text/html": [
       "<div>\n",
       "<style scoped>\n",
       "    .dataframe tbody tr th:only-of-type {\n",
       "        vertical-align: middle;\n",
       "    }\n",
       "\n",
       "    .dataframe tbody tr th {\n",
       "        vertical-align: top;\n",
       "    }\n",
       "\n",
       "    .dataframe thead th {\n",
       "        text-align: right;\n",
       "    }\n",
       "</style>\n",
       "<table border=\"1\" class=\"dataframe\">\n",
       "  <thead>\n",
       "    <tr style=\"text-align: right;\">\n",
       "      <th></th>\n",
       "      <th>BeneID</th>\n",
       "      <th>ClaimID</th>\n",
       "      <th>ClaimStartDt</th>\n",
       "      <th>ClaimEndDt</th>\n",
       "      <th>Provider</th>\n",
       "      <th>InscClaimAmtReimbursed</th>\n",
       "      <th>AttendingPhysician</th>\n",
       "      <th>OperatingPhysician</th>\n",
       "      <th>OtherPhysician</th>\n",
       "      <th>AdmissionDt</th>\n",
       "      <th>...</th>\n",
       "      <th>ChronicCond_rheumatoidarthritis</th>\n",
       "      <th>ChronicCond_stroke</th>\n",
       "      <th>IPAnnualReimbursementAmt</th>\n",
       "      <th>IPAnnualDeductibleAmt</th>\n",
       "      <th>OPAnnualReimbursementAmt</th>\n",
       "      <th>OPAnnualDeductibleAmt</th>\n",
       "      <th>Age</th>\n",
       "      <th>ChronicCount</th>\n",
       "      <th>PotentialFraud</th>\n",
       "      <th>ClaimType</th>\n",
       "    </tr>\n",
       "  </thead>\n",
       "  <tbody>\n",
       "    <tr>\n",
       "      <th>0</th>\n",
       "      <td>BENE11001</td>\n",
       "      <td>CLM46614</td>\n",
       "      <td>2009-04-12</td>\n",
       "      <td>2009-04-18</td>\n",
       "      <td>PRV55912</td>\n",
       "      <td>26000</td>\n",
       "      <td>PHY390922</td>\n",
       "      <td>NaN</td>\n",
       "      <td>NaN</td>\n",
       "      <td>2009-04-12</td>\n",
       "      <td>...</td>\n",
       "      <td>1</td>\n",
       "      <td>1</td>\n",
       "      <td>36000</td>\n",
       "      <td>3204</td>\n",
       "      <td>60</td>\n",
       "      <td>70</td>\n",
       "      <td>82</td>\n",
       "      <td>7</td>\n",
       "      <td>Yes</td>\n",
       "      <td>Inpatient</td>\n",
       "    </tr>\n",
       "    <tr>\n",
       "      <th>1</th>\n",
       "      <td>BENE11001</td>\n",
       "      <td>CLM66048</td>\n",
       "      <td>2009-08-31</td>\n",
       "      <td>2009-09-02</td>\n",
       "      <td>PRV55907</td>\n",
       "      <td>5000</td>\n",
       "      <td>PHY318495</td>\n",
       "      <td>PHY318495</td>\n",
       "      <td>NaN</td>\n",
       "      <td>2009-08-31</td>\n",
       "      <td>...</td>\n",
       "      <td>1</td>\n",
       "      <td>1</td>\n",
       "      <td>36000</td>\n",
       "      <td>3204</td>\n",
       "      <td>60</td>\n",
       "      <td>70</td>\n",
       "      <td>82</td>\n",
       "      <td>7</td>\n",
       "      <td>No</td>\n",
       "      <td>Inpatient</td>\n",
       "    </tr>\n",
       "    <tr>\n",
       "      <th>2</th>\n",
       "      <td>BENE11001</td>\n",
       "      <td>CLM68358</td>\n",
       "      <td>2009-09-17</td>\n",
       "      <td>2009-09-20</td>\n",
       "      <td>PRV56046</td>\n",
       "      <td>5000</td>\n",
       "      <td>PHY372395</td>\n",
       "      <td>NaN</td>\n",
       "      <td>PHY324689</td>\n",
       "      <td>2009-09-17</td>\n",
       "      <td>...</td>\n",
       "      <td>1</td>\n",
       "      <td>1</td>\n",
       "      <td>36000</td>\n",
       "      <td>3204</td>\n",
       "      <td>60</td>\n",
       "      <td>70</td>\n",
       "      <td>82</td>\n",
       "      <td>7</td>\n",
       "      <td>No</td>\n",
       "      <td>Inpatient</td>\n",
       "    </tr>\n",
       "    <tr>\n",
       "      <th>3</th>\n",
       "      <td>BENE11011</td>\n",
       "      <td>CLM38412</td>\n",
       "      <td>2009-02-14</td>\n",
       "      <td>2009-02-22</td>\n",
       "      <td>PRV52405</td>\n",
       "      <td>5000</td>\n",
       "      <td>PHY369659</td>\n",
       "      <td>PHY392961</td>\n",
       "      <td>PHY349768</td>\n",
       "      <td>2009-02-14</td>\n",
       "      <td>...</td>\n",
       "      <td>1</td>\n",
       "      <td>1</td>\n",
       "      <td>5000</td>\n",
       "      <td>1068</td>\n",
       "      <td>250</td>\n",
       "      <td>320</td>\n",
       "      <td>111</td>\n",
       "      <td>6</td>\n",
       "      <td>No</td>\n",
       "      <td>Inpatient</td>\n",
       "    </tr>\n",
       "    <tr>\n",
       "      <th>4</th>\n",
       "      <td>BENE11014</td>\n",
       "      <td>CLM63689</td>\n",
       "      <td>2009-08-13</td>\n",
       "      <td>2009-08-30</td>\n",
       "      <td>PRV56614</td>\n",
       "      <td>10000</td>\n",
       "      <td>PHY379376</td>\n",
       "      <td>PHY398258</td>\n",
       "      <td>NaN</td>\n",
       "      <td>2009-08-13</td>\n",
       "      <td>...</td>\n",
       "      <td>2</td>\n",
       "      <td>2</td>\n",
       "      <td>21260</td>\n",
       "      <td>2136</td>\n",
       "      <td>120</td>\n",
       "      <td>100</td>\n",
       "      <td>87</td>\n",
       "      <td>5</td>\n",
       "      <td>No</td>\n",
       "      <td>Inpatient</td>\n",
       "    </tr>\n",
       "  </tbody>\n",
       "</table>\n",
       "<p>5 rows × 59 columns</p>\n",
       "</div>"
      ],
      "text/plain": [
       "      BeneID   ClaimID ClaimStartDt ClaimEndDt  Provider  \\\n",
       "0  BENE11001  CLM46614   2009-04-12 2009-04-18  PRV55912   \n",
       "1  BENE11001  CLM66048   2009-08-31 2009-09-02  PRV55907   \n",
       "2  BENE11001  CLM68358   2009-09-17 2009-09-20  PRV56046   \n",
       "3  BENE11011  CLM38412   2009-02-14 2009-02-22  PRV52405   \n",
       "4  BENE11014  CLM63689   2009-08-13 2009-08-30  PRV56614   \n",
       "\n",
       "   InscClaimAmtReimbursed AttendingPhysician OperatingPhysician  \\\n",
       "0                   26000          PHY390922                NaN   \n",
       "1                    5000          PHY318495          PHY318495   \n",
       "2                    5000          PHY372395                NaN   \n",
       "3                    5000          PHY369659          PHY392961   \n",
       "4                   10000          PHY379376          PHY398258   \n",
       "\n",
       "  OtherPhysician AdmissionDt  ... ChronicCond_rheumatoidarthritis  \\\n",
       "0            NaN  2009-04-12  ...                               1   \n",
       "1            NaN  2009-08-31  ...                               1   \n",
       "2      PHY324689  2009-09-17  ...                               1   \n",
       "3      PHY349768  2009-02-14  ...                               1   \n",
       "4            NaN  2009-08-13  ...                               2   \n",
       "\n",
       "   ChronicCond_stroke IPAnnualReimbursementAmt IPAnnualDeductibleAmt  \\\n",
       "0                   1                    36000                  3204   \n",
       "1                   1                    36000                  3204   \n",
       "2                   1                    36000                  3204   \n",
       "3                   1                     5000                  1068   \n",
       "4                   2                    21260                  2136   \n",
       "\n",
       "  OPAnnualReimbursementAmt OPAnnualDeductibleAmt  Age ChronicCount  \\\n",
       "0                       60                    70   82            7   \n",
       "1                       60                    70   82            7   \n",
       "2                       60                    70   82            7   \n",
       "3                      250                   320  111            6   \n",
       "4                      120                   100   87            5   \n",
       "\n",
       "  PotentialFraud  ClaimType  \n",
       "0            Yes  Inpatient  \n",
       "1             No  Inpatient  \n",
       "2             No  Inpatient  \n",
       "3             No  Inpatient  \n",
       "4             No  Inpatient  \n",
       "\n",
       "[5 rows x 59 columns]"
      ]
     },
     "execution_count": 7,
     "metadata": {},
     "output_type": "execute_result"
    }
   ],
   "source": [
    "# Check head\n",
    "train_data.head()"
   ]
  },
  {
   "cell_type": "code",
   "execution_count": 8,
   "id": "f1ba4dd3eb31d42",
   "metadata": {
    "ExecuteTime": {
     "end_time": "2025-02-25T09:38:22.281349Z",
     "start_time": "2025-02-25T09:38:22.231554Z"
    }
   },
   "outputs": [
    {
     "name": "stdout",
     "output_type": "stream",
     "text": [
      "object\n",
      "[<NA> '7092' '331' '3893' '863' '4576' '9904' '3612' '9672' '9671']\n"
     ]
    }
   ],
   "source": [
    "print(train_data[\"ClmProcedureCode_1\"].dtype)\n",
    "print(train_data[\"ClmProcedureCode_1\"].unique()[:10])  # Show first 10 unique values"
   ]
  },
  {
   "cell_type": "code",
   "execution_count": 9,
   "id": "b20be2c7e77bc390",
   "metadata": {
    "ExecuteTime": {
     "end_time": "2025-02-25T09:38:22.301323Z",
     "start_time": "2025-02-25T09:38:22.299232Z"
    }
   },
   "outputs": [],
   "source": [
    "# Create a function to map codes to categories\n",
    "def map_category(code, category_dict):\n",
    "    \"\"\"Maps an ICD-9 code to a category based on provided ranges.\"\"\"\n",
    "    if pd.isna(code) or code==\"\":\n",
    "        return \"Unknown\"\n",
    "\n",
    "    if code.startswith(\"V\"):\n",
    "        return \"V-Codes\"\n",
    "    if code.startswith(\"E\"):\n",
    "        return \"E-Codes\"\n",
    "\n",
    "    code = int(code)\n",
    "\n",
    "    for (low, high), category in category_dict.items():\n",
    "        if low*100 <= code <= high*100:\n",
    "            return category\n",
    "\n",
    "    return \"Unknown\""
   ]
  },
  {
   "cell_type": "code",
   "execution_count": 10,
   "id": "9d25f09a7b32640",
   "metadata": {
    "ExecuteTime": {
     "end_time": "2025-02-25T09:38:25.722617Z",
     "start_time": "2025-02-25T09:38:22.326827Z"
    }
   },
   "outputs": [],
   "source": [
    "# Create dictionary for mapping diagnosis categories\n",
    "diagnosis_category_map = {\n",
    "    (1, 139): \"Infectious & Parasitic Diseases\",\n",
    "    (140, 239): \"Neoplasms\",\n",
    "    (240, 279): \"Endocrine, Nutritional, and Metabolic Diseases\",\n",
    "    (280, 289): \"Diseases of the Blood\",\n",
    "    (290, 319): \"Mental Disorders\",\n",
    "    (320, 389): \"Diseases of the Nervous System and Sense Organs\",\n",
    "    (390, 459): \"Diseases of the Circulatory System\",\n",
    "    (460, 519): \"Diseases of the Respiratory System\",\n",
    "    (520, 579): \"Diseases of the Digestive System\",\n",
    "    (580, 629): \"Diseases of the Genitourinary System\",\n",
    "    (630, 679): \"Pregnancy, Childbirth, and the Puerperium\",\n",
    "    (680, 709): \"Diseases of the Skin and Subcutaneous Tissue\",\n",
    "    (710, 739): \"Diseases of the Musculoskeletal System\",\n",
    "    (740, 759): \"Congenital Anomalies\",\n",
    "    (780, 799): \"Symptoms, Signs, and Ill-Defined Conditions\",\n",
    "    (800, 999): \"Injury and Poisoning\",\n",
    "}\n",
    "\n",
    "# Create new diagnosis category columns\n",
    "for col in diagnosis_columns:\n",
    "    train_data[col] = train_data[col].astype(str).replace({\"<NA>\": \"\"}).str.strip().str.upper()\n",
    "    train_data[f\"{col}_Category\"] = train_data[col].apply(lambda x: map_category(x, diagnosis_category_map))"
   ]
  },
  {
   "cell_type": "code",
   "execution_count": 11,
   "id": "133296ba7bba230c",
   "metadata": {
    "ExecuteTime": {
     "end_time": "2025-02-25T09:38:27.500714Z",
     "start_time": "2025-02-25T09:38:25.725699Z"
    }
   },
   "outputs": [],
   "source": [
    "# Create dictionary for mapping procedure categories\n",
    "procedure_category_map = {\n",
    "    (0, 0): \"Miscellaneous Diagnostic & Therapeutic Procedures\",\n",
    "    (1, 5): \"Procedures on the Nervous System\",\n",
    "    (6, 7): \"Procedures on the Endocrine System\",\n",
    "    (8, 16): \"Procedures on the Eye & Ear\",\n",
    "    (17, 20): \"Operations on the Cardiovascular System\",\n",
    "    (21, 29): \"Operations on the Respiratory System\",\n",
    "    (30, 34): \"Operations on the Digestive System\",\n",
    "    (35, 39): \"Cardiovascular Procedures\",\n",
    "    (40, 41): \"Procedures on the Lymphatic & Hemic System\",\n",
    "    (42, 54): \"Procedures on the Digestive System\",\n",
    "    (55, 59): \"Procedures on the Urinary System\",\n",
    "    (60, 64): \"Procedures on the Male Genital Organs\",\n",
    "    (65, 71): \"Procedures on the Female Genital Organs\",\n",
    "    (72, 75): \"Obstetric & Gynecological Procedures\",\n",
    "    (76, 84): \"Orthopedic Procedures\",\n",
    "    (85, 86): \"Operations on the Breast and Skin\",\n",
    "    (87, 99): \"Radiology, Physical Therapy, and Other Miscellaneous Procedures\",\n",
    "}\n",
    "\n",
    "# Create new procedure category columns\n",
    "for col in procedure_columns:\n",
    "    train_data[col] = train_data[col].astype(str).replace({\"<NA>\": \"\"}).str.strip().str.upper()\n",
    "    train_data[f\"{col}_Category\"] = train_data[col].apply(lambda x: map_category(x, procedure_category_map))"
   ]
  },
  {
   "cell_type": "code",
   "execution_count": 12,
   "id": "b6e21333763fa588",
   "metadata": {
    "ExecuteTime": {
     "end_time": "2025-02-25T09:38:27.636152Z",
     "start_time": "2025-02-25T09:38:27.509553Z"
    }
   },
   "outputs": [],
   "source": [
    "# Create a primary procedure column\n",
    "train_data[\"PrimaryProcedure\"] = (\n",
    "    train_data[\"ClmProcedureCode_1\"]\n",
    "    .astype(str)\n",
    "    .str.strip()\n",
    "    .replace({\"nan\": pd.NA, \"0nan\": pd.NA, \"NaN\": pd.NA, \"\": pd.NA})\n",
    "    .str.zfill(4)\n",
    ")\n",
    "\n",
    "train_data[\"PrimaryProcedure\"] = train_data[\"PrimaryProcedure\"].fillna(\"Unknown\")"
   ]
  },
  {
   "cell_type": "code",
   "execution_count": 13,
   "id": "4c12bd4887e09b59",
   "metadata": {
    "ExecuteTime": {
     "end_time": "2025-02-25T09:38:27.760685Z",
     "start_time": "2025-02-25T09:38:27.644430Z"
    }
   },
   "outputs": [],
   "source": [
    "# Create a number of procedures column\n",
    "train_data[\"NumProcedures\"] = train_data[procedure_columns].notna().sum(axis=1)"
   ]
  },
  {
   "cell_type": "code",
   "execution_count": 14,
   "id": "c6e71fe9e1fcf2b9",
   "metadata": {
    "ExecuteTime": {
     "end_time": "2025-02-25T09:38:28.782037Z",
     "start_time": "2025-02-25T09:38:27.768709Z"
    }
   },
   "outputs": [
    {
     "name": "stdout",
     "output_type": "stream",
     "text": [
      "Merged procedure descriptions.\n"
     ]
    }
   ],
   "source": [
    "# Read in procedure descriptions\n",
    "proc_desc = pd.read_excel(\"medical_codes/CMS32_DESC_LONG_SHORT_SG.xlsx\", dtype=str)\n",
    "\n",
    "proc_desc.rename(columns={\n",
    "    \"PROCEDURE CODE\": \"ProcedureCode\",\n",
    "    \"LONG DESCRIPTION\": \"PrimaryProcedure_LongDesc\",\n",
    "    \"SHORT DESCRIPTION\": \"PrimaryProcedure_ShortDesc\"\n",
    "}, inplace=True)\n",
    "proc_desc[\"ProcedureCode\"] = proc_desc[\"ProcedureCode\"].astype(str).str.zfill(4)\n",
    "\n",
    "# Merge procedure descriptions to training data\n",
    "train_data = train_data.merge(proc_desc, left_on=\"PrimaryProcedure\", right_on=\"ProcedureCode\", how=\"left\")\n",
    "\n",
    "train_data.drop(columns=[\"ProcedureCode\"], inplace=True, errors=\"ignore\")\n",
    "\n",
    "print(\"Merged procedure descriptions.\")"
   ]
  },
  {
   "cell_type": "code",
   "execution_count": 15,
   "id": "cdcc1e70d6e03c89",
   "metadata": {
    "ExecuteTime": {
     "end_time": "2025-02-25T09:38:36.574312Z",
     "start_time": "2025-02-25T09:38:28.790945Z"
    }
   },
   "outputs": [
    {
     "name": "stdout",
     "output_type": "stream",
     "text": [
      "Merged diagnosis descriptions.\n"
     ]
    }
   ],
   "source": [
    "# Read in diagnosis descriptions\n",
    "dx_desc = pd.read_excel(\"medical_codes/CMS32_DESC_LONG_SHORT_DX.xlsx\", dtype=str)\n",
    "dx_desc.rename(columns={\"DIAGNOSIS CODE\": \"DiagnosisCode\"}, inplace=True)\n",
    "dx_desc[\"DiagnosisCode\"] = dx_desc[\"DiagnosisCode\"].astype(str).str.zfill(4)\n",
    "\n",
    "# Merge diagnosis descriptions to training data\n",
    "for col in diagnosis_columns:\n",
    "    if col in train_data.columns:\n",
    "        train_data = train_data.merge(dx_desc, left_on=col, right_on=\"DiagnosisCode\", how=\"left\", suffixes=(\"\", f\"_{col}\"))\n",
    "\n",
    "print(\"Merged diagnosis descriptions.\")"
   ]
  },
  {
   "cell_type": "code",
   "execution_count": 16,
   "id": "622f55453a4a350e",
   "metadata": {
    "ExecuteTime": {
     "end_time": "2025-02-25T09:38:36.823459Z",
     "start_time": "2025-02-25T09:38:36.582751Z"
    }
   },
   "outputs": [],
   "source": [
    "# Remove unneeded columns\n",
    "columns_to_drop = [\n",
    "    \"DiagnosisGroupCode\",\n",
    "    *diagnosis_columns,\n",
    "    *[f\"ClmProcedureCode_{i}\" for i in range(1, 7)],\n",
    "    \"DiagnosisCode\",\n",
    "    *[f\"DiagnosisCode_ClmDiagnosisCode_{i}\" for i in range(1, 11)]\n",
    "]\n",
    "train_data.drop(columns=[col for col in columns_to_drop if col in train_data.columns], inplace=True, errors=\"ignore\")"
   ]
  },
  {
   "cell_type": "code",
   "execution_count": 17,
   "id": "ebe0021771d35286",
   "metadata": {
    "ExecuteTime": {
     "end_time": "2025-02-25T09:38:36.835053Z",
     "start_time": "2025-02-25T09:38:36.832129Z"
    }
   },
   "outputs": [],
   "source": [
    "# Rename diagnosis code columns\n",
    "for i in range(1, 11):\n",
    "    if f\"LONG DESCRIPTION_ClmDiagnosisCode_{i}\" in train_data.columns:\n",
    "        train_data.rename(columns={\n",
    "            f\"LONG DESCRIPTION_ClmDiagnosisCode_{i}\": f\"ClmDiagnosisCode_{i}_LongDesc\",\n",
    "            f\"SHORT DESCRIPTION_ClmDiagnosisCode_{i}\": f\"ClmDiagnosisCode_{i}_ShortDesc\"\n",
    "        }, inplace=True)\n",
    "\n",
    "if \"LONG DESCRIPTION\" in train_data.columns:\n",
    "    train_data.rename(columns={\"LONG DESCRIPTION\": \"ClmDiagnosisCode_1_LongDesc\"}, inplace=True)\n",
    "if \"SHORT DESCRIPTION\" in train_data.columns:\n",
    "    train_data.rename(columns={\"SHORT DESCRIPTION\": \"ClmDiagnosisCode_1_ShortDesc\"}, inplace=True)"
   ]
  },
  {
   "cell_type": "code",
   "execution_count": 18,
   "id": "3e7e0f872da0cdce",
   "metadata": {
    "ExecuteTime": {
     "end_time": "2025-02-25T09:38:48.637870Z",
     "start_time": "2025-02-25T09:38:36.844487Z"
    }
   },
   "outputs": [
    {
     "name": "stdout",
     "output_type": "stream",
     "text": [
      "0 records flagged for unknown procedure descriptions.\n",
      "0 records flagged for unknown diagnosis descriptions.\n"
     ]
    }
   ],
   "source": [
    "# Create column for number of unknown procedures\n",
    "num_diagnosis_desc = 10\n",
    "\n",
    "unknown_procedure_count = (train_data[[\"PrimaryProcedure_LongDesc\", \"PrimaryProcedure_ShortDesc\"]] == \"Unknown\").sum(axis=1)\n",
    "unknown_diagnosis_count = train_data[[f\"ClmDiagnosisCode_{i}_LongDesc\" for i in range(1, 11)]].apply(lambda row: (row == \"Unknown\").sum(), axis=1)\n",
    "\n",
    "# Create flag for more than 0 unknown procedures\n",
    "train_data[\"Flag_Unknown_Procedures\"] = unknown_procedure_count > 1\n",
    "train_data[\"Flag_Unknown_Diagnoses\"] = unknown_diagnosis_count > (num_diagnosis_desc / 2)\n",
    "\n",
    "print(f\"{train_data['Flag_Unknown_Procedures'].sum()} records flagged for unknown procedure descriptions.\")\n",
    "print(f\"{train_data['Flag_Unknown_Diagnoses'].sum()} records flagged for unknown diagnosis descriptions.\")"
   ]
  },
  {
   "cell_type": "code",
   "execution_count": 19,
   "id": "de48516252a5cc60",
   "metadata": {
    "ExecuteTime": {
     "end_time": "2025-02-25T09:38:49.208563Z",
     "start_time": "2025-02-25T09:38:48.703663Z"
    }
   },
   "outputs": [
    {
     "name": "stdout",
     "output_type": "stream",
     "text": [
      "<class 'pandas.core.frame.DataFrame'>\n",
      "RangeIndex: 559877 entries, 0 to 559876\n",
      "Data columns (total 84 columns):\n",
      " #   Column                           Non-Null Count   Dtype         \n",
      "---  ------                           --------------   -----         \n",
      " 0   BeneID                           559877 non-null  object        \n",
      " 1   ClaimID                          559877 non-null  object        \n",
      " 2   ClaimStartDt                     559877 non-null  datetime64[ns]\n",
      " 3   ClaimEndDt                       559877 non-null  datetime64[ns]\n",
      " 4   Provider                         559877 non-null  object        \n",
      " 5   InscClaimAmtReimbursed           559877 non-null  int64         \n",
      " 6   AttendingPhysician               558367 non-null  object        \n",
      " 7   OperatingPhysician               115736 non-null  object        \n",
      " 8   OtherPhysician                   200081 non-null  object        \n",
      " 9   AdmissionDt                      41685 non-null   datetime64[ns]\n",
      " 10  ClmAdmitDiagnosisCode            147187 non-null  object        \n",
      " 11  DeductibleAmtPaid                558956 non-null  float64       \n",
      " 12  DischargeDt                      41685 non-null   datetime64[ns]\n",
      " 13  TotalClaims                      559877 non-null  int64         \n",
      " 14  DOB                              559877 non-null  datetime64[ns]\n",
      " 15  DOD                              0 non-null       datetime64[ns]\n",
      " 16  Gender                           559877 non-null  int64         \n",
      " 17  Race                             559877 non-null  int64         \n",
      " 18  RenalDiseaseIndicator            559877 non-null  object        \n",
      " 19  State                            559877 non-null  int64         \n",
      " 20  County                           559877 non-null  int64         \n",
      " 21  NoOfMonths_PartACov              559877 non-null  int64         \n",
      " 22  NoOfMonths_PartBCov              559877 non-null  int64         \n",
      " 23  ChronicCond_Alzheimer            559877 non-null  int64         \n",
      " 24  ChronicCond_Heartfailure         559877 non-null  int64         \n",
      " 25  ChronicCond_KidneyDisease        559877 non-null  int64         \n",
      " 26  ChronicCond_Cancer               559877 non-null  int64         \n",
      " 27  ChronicCond_ObstrPulmonary       559877 non-null  int64         \n",
      " 28  ChronicCond_Depression           559877 non-null  int64         \n",
      " 29  ChronicCond_Diabetes             559877 non-null  int64         \n",
      " 30  ChronicCond_IschemicHeart        559877 non-null  int64         \n",
      " 31  ChronicCond_Osteoporasis         559877 non-null  int64         \n",
      " 32  ChronicCond_rheumatoidarthritis  559877 non-null  int64         \n",
      " 33  ChronicCond_stroke               559877 non-null  int64         \n",
      " 34  IPAnnualReimbursementAmt         559877 non-null  int64         \n",
      " 35  IPAnnualDeductibleAmt            559877 non-null  int64         \n",
      " 36  OPAnnualReimbursementAmt         559877 non-null  int64         \n",
      " 37  OPAnnualDeductibleAmt            559877 non-null  int64         \n",
      " 38  Age                              559877 non-null  int64         \n",
      " 39  ChronicCount                     559877 non-null  int64         \n",
      " 40  PotentialFraud                   559877 non-null  object        \n",
      " 41  ClaimType                        559877 non-null  object        \n",
      " 42  ClmDiagnosisCode_1_Category      559877 non-null  object        \n",
      " 43  ClmDiagnosisCode_2_Category      559877 non-null  object        \n",
      " 44  ClmDiagnosisCode_3_Category      559877 non-null  object        \n",
      " 45  ClmDiagnosisCode_4_Category      559877 non-null  object        \n",
      " 46  ClmDiagnosisCode_5_Category      559877 non-null  object        \n",
      " 47  ClmDiagnosisCode_6_Category      559877 non-null  object        \n",
      " 48  ClmDiagnosisCode_7_Category      559877 non-null  object        \n",
      " 49  ClmDiagnosisCode_8_Category      559877 non-null  object        \n",
      " 50  ClmDiagnosisCode_9_Category      559877 non-null  object        \n",
      " 51  ClmDiagnosisCode_10_Category     559877 non-null  object        \n",
      " 52  ClmProcedureCode_1_Category      559877 non-null  object        \n",
      " 53  ClmProcedureCode_2_Category      559877 non-null  object        \n",
      " 54  ClmProcedureCode_3_Category      559877 non-null  object        \n",
      " 55  ClmProcedureCode_4_Category      559877 non-null  object        \n",
      " 56  ClmProcedureCode_5_Category      559877 non-null  object        \n",
      " 57  ClmProcedureCode_6_Category      559877 non-null  object        \n",
      " 58  PrimaryProcedure                 559877 non-null  object        \n",
      " 59  NumProcedures                    559877 non-null  int64         \n",
      " 60  PrimaryProcedure_LongDesc        24515 non-null   object        \n",
      " 61  PrimaryProcedure_ShortDesc       24515 non-null   object        \n",
      " 62  ClmDiagnosisCode_1_LongDesc      535331 non-null  object        \n",
      " 63  ClmDiagnosisCode_1_ShortDesc     535331 non-null  object        \n",
      " 64  ClmDiagnosisCode_2_LongDesc      349528 non-null  object        \n",
      " 65  ClmDiagnosisCode_2_ShortDesc     349528 non-null  object        \n",
      " 66  ClmDiagnosisCode_3_LongDesc      234201 non-null  object        \n",
      " 67  ClmDiagnosisCode_3_ShortDesc     234201 non-null  object        \n",
      " 68  ClmDiagnosisCode_4_LongDesc      158509 non-null  object        \n",
      " 69  ClmDiagnosisCode_4_ShortDesc     158509 non-null  object        \n",
      " 70  ClmDiagnosisCode_5_LongDesc      107879 non-null  object        \n",
      " 71  ClmDiagnosisCode_5_ShortDesc     107879 non-null  object        \n",
      " 72  ClmDiagnosisCode_6_LongDesc      81288 non-null   object        \n",
      " 73  ClmDiagnosisCode_6_ShortDesc     81288 non-null   object        \n",
      " 74  ClmDiagnosisCode_7_LongDesc      63777 non-null   object        \n",
      " 75  ClmDiagnosisCode_7_ShortDesc     63777 non-null   object        \n",
      " 76  ClmDiagnosisCode_8_LongDesc      51391 non-null   object        \n",
      " 77  ClmDiagnosisCode_8_ShortDesc     51391 non-null   object        \n",
      " 78  ClmDiagnosisCode_9_LongDesc      40191 non-null   object        \n",
      " 79  ClmDiagnosisCode_9_ShortDesc     40191 non-null   object        \n",
      " 80  ClmDiagnosisCode_10_LongDesc     4828 non-null    object        \n",
      " 81  ClmDiagnosisCode_10_ShortDesc    4828 non-null    object        \n",
      " 82  Flag_Unknown_Procedures          559877 non-null  bool          \n",
      " 83  Flag_Unknown_Diagnoses           559877 non-null  bool          \n",
      "dtypes: bool(2), datetime64[ns](6), float64(1), int64(26), object(49)\n",
      "memory usage: 351.3+ MB\n"
     ]
    }
   ],
   "source": [
    "# Check metadata\n",
    "train_data.info()"
   ]
  },
  {
   "cell_type": "code",
   "execution_count": 20,
   "id": "273390f14f16ae0b",
   "metadata": {
    "ExecuteTime": {
     "end_time": "2025-02-25T09:38:49.278245Z",
     "start_time": "2025-02-25T09:38:49.271454Z"
    }
   },
   "outputs": [
    {
     "data": {
      "text/html": [
       "<div>\n",
       "<style scoped>\n",
       "    .dataframe tbody tr th:only-of-type {\n",
       "        vertical-align: middle;\n",
       "    }\n",
       "\n",
       "    .dataframe tbody tr th {\n",
       "        vertical-align: top;\n",
       "    }\n",
       "\n",
       "    .dataframe thead th {\n",
       "        text-align: right;\n",
       "    }\n",
       "</style>\n",
       "<table border=\"1\" class=\"dataframe\">\n",
       "  <thead>\n",
       "    <tr style=\"text-align: right;\">\n",
       "      <th></th>\n",
       "      <th>BeneID</th>\n",
       "      <th>ClaimID</th>\n",
       "      <th>ClaimStartDt</th>\n",
       "      <th>ClaimEndDt</th>\n",
       "      <th>Provider</th>\n",
       "      <th>InscClaimAmtReimbursed</th>\n",
       "      <th>AttendingPhysician</th>\n",
       "      <th>OperatingPhysician</th>\n",
       "      <th>OtherPhysician</th>\n",
       "      <th>AdmissionDt</th>\n",
       "      <th>...</th>\n",
       "      <th>ClmDiagnosisCode_7_LongDesc</th>\n",
       "      <th>ClmDiagnosisCode_7_ShortDesc</th>\n",
       "      <th>ClmDiagnosisCode_8_LongDesc</th>\n",
       "      <th>ClmDiagnosisCode_8_ShortDesc</th>\n",
       "      <th>ClmDiagnosisCode_9_LongDesc</th>\n",
       "      <th>ClmDiagnosisCode_9_ShortDesc</th>\n",
       "      <th>ClmDiagnosisCode_10_LongDesc</th>\n",
       "      <th>ClmDiagnosisCode_10_ShortDesc</th>\n",
       "      <th>Flag_Unknown_Procedures</th>\n",
       "      <th>Flag_Unknown_Diagnoses</th>\n",
       "    </tr>\n",
       "  </thead>\n",
       "  <tbody>\n",
       "    <tr>\n",
       "      <th>0</th>\n",
       "      <td>BENE11001</td>\n",
       "      <td>CLM46614</td>\n",
       "      <td>2009-04-12</td>\n",
       "      <td>2009-04-18</td>\n",
       "      <td>PRV55912</td>\n",
       "      <td>26000</td>\n",
       "      <td>PHY390922</td>\n",
       "      <td>NaN</td>\n",
       "      <td>NaN</td>\n",
       "      <td>2009-04-12</td>\n",
       "      <td>...</td>\n",
       "      <td>Other and unspecified hyperlipidemia</td>\n",
       "      <td>Hyperlipidemia NEC/NOS</td>\n",
       "      <td>Secondary malignant neoplasm of other specifie...</td>\n",
       "      <td>Secondary malig neo NEC</td>\n",
       "      <td>Acute kidney failure, unspecified</td>\n",
       "      <td>Acute kidney failure NOS</td>\n",
       "      <td>NaN</td>\n",
       "      <td>NaN</td>\n",
       "      <td>False</td>\n",
       "      <td>False</td>\n",
       "    </tr>\n",
       "    <tr>\n",
       "      <th>1</th>\n",
       "      <td>BENE11001</td>\n",
       "      <td>CLM66048</td>\n",
       "      <td>2009-08-31</td>\n",
       "      <td>2009-09-02</td>\n",
       "      <td>PRV55907</td>\n",
       "      <td>5000</td>\n",
       "      <td>PHY318495</td>\n",
       "      <td>PHY318495</td>\n",
       "      <td>NaN</td>\n",
       "      <td>2009-08-31</td>\n",
       "      <td>...</td>\n",
       "      <td>NaN</td>\n",
       "      <td>NaN</td>\n",
       "      <td>NaN</td>\n",
       "      <td>NaN</td>\n",
       "      <td>NaN</td>\n",
       "      <td>NaN</td>\n",
       "      <td>NaN</td>\n",
       "      <td>NaN</td>\n",
       "      <td>False</td>\n",
       "      <td>False</td>\n",
       "    </tr>\n",
       "    <tr>\n",
       "      <th>2</th>\n",
       "      <td>BENE11001</td>\n",
       "      <td>CLM68358</td>\n",
       "      <td>2009-09-17</td>\n",
       "      <td>2009-09-20</td>\n",
       "      <td>PRV56046</td>\n",
       "      <td>5000</td>\n",
       "      <td>PHY372395</td>\n",
       "      <td>NaN</td>\n",
       "      <td>PHY324689</td>\n",
       "      <td>2009-09-17</td>\n",
       "      <td>...</td>\n",
       "      <td>NaN</td>\n",
       "      <td>NaN</td>\n",
       "      <td>NaN</td>\n",
       "      <td>NaN</td>\n",
       "      <td>NaN</td>\n",
       "      <td>NaN</td>\n",
       "      <td>NaN</td>\n",
       "      <td>NaN</td>\n",
       "      <td>False</td>\n",
       "      <td>False</td>\n",
       "    </tr>\n",
       "    <tr>\n",
       "      <th>3</th>\n",
       "      <td>BENE11011</td>\n",
       "      <td>CLM38412</td>\n",
       "      <td>2009-02-14</td>\n",
       "      <td>2009-02-22</td>\n",
       "      <td>PRV52405</td>\n",
       "      <td>5000</td>\n",
       "      <td>PHY369659</td>\n",
       "      <td>PHY392961</td>\n",
       "      <td>PHY349768</td>\n",
       "      <td>2009-02-14</td>\n",
       "      <td>...</td>\n",
       "      <td>Diabetes with neurological manifestations, typ...</td>\n",
       "      <td>DMII neuro uncntrld</td>\n",
       "      <td>Hypertensive chronic kidney disease, unspecifi...</td>\n",
       "      <td>Hy kid NOS w cr kid I-IV</td>\n",
       "      <td>Unspecified essential hypertension</td>\n",
       "      <td>Hypertension NOS</td>\n",
       "      <td>NaN</td>\n",
       "      <td>NaN</td>\n",
       "      <td>False</td>\n",
       "      <td>False</td>\n",
       "    </tr>\n",
       "    <tr>\n",
       "      <th>4</th>\n",
       "      <td>BENE11011</td>\n",
       "      <td>CLM38412</td>\n",
       "      <td>2009-02-14</td>\n",
       "      <td>2009-02-22</td>\n",
       "      <td>PRV52405</td>\n",
       "      <td>5000</td>\n",
       "      <td>PHY369659</td>\n",
       "      <td>PHY392961</td>\n",
       "      <td>PHY349768</td>\n",
       "      <td>2009-02-14</td>\n",
       "      <td>...</td>\n",
       "      <td>Diabetes with neurological manifestations, typ...</td>\n",
       "      <td>DMII neuro uncntrld</td>\n",
       "      <td>Hypertensive chronic kidney disease, unspecifi...</td>\n",
       "      <td>Hy kid NOS w cr kid I-IV</td>\n",
       "      <td>Unspecified essential hypertension</td>\n",
       "      <td>Hypertension NOS</td>\n",
       "      <td>NaN</td>\n",
       "      <td>NaN</td>\n",
       "      <td>False</td>\n",
       "      <td>False</td>\n",
       "    </tr>\n",
       "  </tbody>\n",
       "</table>\n",
       "<p>5 rows × 84 columns</p>\n",
       "</div>"
      ],
      "text/plain": [
       "      BeneID   ClaimID ClaimStartDt ClaimEndDt  Provider  \\\n",
       "0  BENE11001  CLM46614   2009-04-12 2009-04-18  PRV55912   \n",
       "1  BENE11001  CLM66048   2009-08-31 2009-09-02  PRV55907   \n",
       "2  BENE11001  CLM68358   2009-09-17 2009-09-20  PRV56046   \n",
       "3  BENE11011  CLM38412   2009-02-14 2009-02-22  PRV52405   \n",
       "4  BENE11011  CLM38412   2009-02-14 2009-02-22  PRV52405   \n",
       "\n",
       "   InscClaimAmtReimbursed AttendingPhysician OperatingPhysician  \\\n",
       "0                   26000          PHY390922                NaN   \n",
       "1                    5000          PHY318495          PHY318495   \n",
       "2                    5000          PHY372395                NaN   \n",
       "3                    5000          PHY369659          PHY392961   \n",
       "4                    5000          PHY369659          PHY392961   \n",
       "\n",
       "  OtherPhysician AdmissionDt  ...  \\\n",
       "0            NaN  2009-04-12  ...   \n",
       "1            NaN  2009-08-31  ...   \n",
       "2      PHY324689  2009-09-17  ...   \n",
       "3      PHY349768  2009-02-14  ...   \n",
       "4      PHY349768  2009-02-14  ...   \n",
       "\n",
       "                         ClmDiagnosisCode_7_LongDesc  \\\n",
       "0               Other and unspecified hyperlipidemia   \n",
       "1                                                NaN   \n",
       "2                                                NaN   \n",
       "3  Diabetes with neurological manifestations, typ...   \n",
       "4  Diabetes with neurological manifestations, typ...   \n",
       "\n",
       "   ClmDiagnosisCode_7_ShortDesc  \\\n",
       "0        Hyperlipidemia NEC/NOS   \n",
       "1                           NaN   \n",
       "2                           NaN   \n",
       "3           DMII neuro uncntrld   \n",
       "4           DMII neuro uncntrld   \n",
       "\n",
       "                         ClmDiagnosisCode_8_LongDesc  \\\n",
       "0  Secondary malignant neoplasm of other specifie...   \n",
       "1                                                NaN   \n",
       "2                                                NaN   \n",
       "3  Hypertensive chronic kidney disease, unspecifi...   \n",
       "4  Hypertensive chronic kidney disease, unspecifi...   \n",
       "\n",
       "   ClmDiagnosisCode_8_ShortDesc         ClmDiagnosisCode_9_LongDesc  \\\n",
       "0       Secondary malig neo NEC   Acute kidney failure, unspecified   \n",
       "1                           NaN                                 NaN   \n",
       "2                           NaN                                 NaN   \n",
       "3      Hy kid NOS w cr kid I-IV  Unspecified essential hypertension   \n",
       "4      Hy kid NOS w cr kid I-IV  Unspecified essential hypertension   \n",
       "\n",
       "  ClmDiagnosisCode_9_ShortDesc  ClmDiagnosisCode_10_LongDesc  \\\n",
       "0     Acute kidney failure NOS                           NaN   \n",
       "1                          NaN                           NaN   \n",
       "2                          NaN                           NaN   \n",
       "3             Hypertension NOS                           NaN   \n",
       "4             Hypertension NOS                           NaN   \n",
       "\n",
       "   ClmDiagnosisCode_10_ShortDesc Flag_Unknown_Procedures  \\\n",
       "0                            NaN                   False   \n",
       "1                            NaN                   False   \n",
       "2                            NaN                   False   \n",
       "3                            NaN                   False   \n",
       "4                            NaN                   False   \n",
       "\n",
       "   Flag_Unknown_Diagnoses  \n",
       "0                   False  \n",
       "1                   False  \n",
       "2                   False  \n",
       "3                   False  \n",
       "4                   False  \n",
       "\n",
       "[5 rows x 84 columns]"
      ]
     },
     "execution_count": 20,
     "metadata": {},
     "output_type": "execute_result"
    }
   ],
   "source": [
    "# Check head\n",
    "train_data.head()"
   ]
  },
  {
   "cell_type": "code",
   "execution_count": 21,
   "id": "fffe7e7bcaffe8b6",
   "metadata": {
    "ExecuteTime": {
     "end_time": "2025-02-25T09:38:57.422356Z",
     "start_time": "2025-02-25T09:38:49.314551Z"
    }
   },
   "outputs": [],
   "source": [
    "# Write cleaned data\n",
    "train_data.to_csv(\"data/train_data_cleaned.csv\", index=False)"
   ]
  }
 ],
 "metadata": {
  "kernelspec": {
   "display_name": "base",
   "language": "python",
   "name": "python3"
  },
  "language_info": {
   "codemirror_mode": {
    "name": "ipython",
    "version": 3
   },
   "file_extension": ".py",
   "mimetype": "text/x-python",
   "name": "python",
   "nbconvert_exporter": "python",
   "pygments_lexer": "ipython3",
   "version": "3.12.2"
  }
 },
 "nbformat": 4,
 "nbformat_minor": 5
}
